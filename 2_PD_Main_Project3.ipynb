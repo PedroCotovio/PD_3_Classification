{
 "cells": [
  {
   "cell_type": "markdown",
   "metadata": {},
   "source": [
    "# Data Mining / Prospecção de Dados\n",
    "\n",
    "## Docente: Sara C. Madeira, 2019/20\n",
    "## Aluno: Pedro Cotovio\n",
    "\n",
    "# Project 3 - Classification/Regression\n",
    "\n",
    "## Part2 - Model Training & Testing"
   ]
  },
  {
   "cell_type": "markdown",
   "metadata": {},
   "source": [
    "## 1. Load Dataset\n",
    "\n",
    "Import required libraries, and import datasets previosly defined in `1_PD_PP_Project3.ipynb`."
   ]
  },
  {
   "cell_type": "code",
   "execution_count": 1,
   "metadata": {},
   "outputs": [
    {
     "name": "stdout",
     "output_type": "stream",
     "text": [
      "Path to Data: C:\\Users\\peped\\OneDrive - Universidade de Lisboa\\Ciencias de Dados\\PD\\PD_3_Classification\\dataset\n"
     ]
    }
   ],
   "source": [
    "# Imports libraries\n",
    "import pandas as pd\n",
    "import os\n",
    "from matplotlib import pyplot as plt\n",
    "import numpy as np\n",
    "\n",
    "# Import local modules\n",
    "\n",
    "from classification import *\n",
    "\n",
    "#IPython Configs\n",
    "\n",
    "%matplotlib inline\n",
    "%load_ext autoreload\n",
    "%autoreload 2\n",
    "\n",
    "import warnings\n",
    "warnings.filterwarnings('ignore')\n",
    "\n",
    "# Get data_path\n",
    "path = get_path()"
   ]
  },
  {
   "cell_type": "code",
   "execution_count": 2,
   "metadata": {},
   "outputs": [],
   "source": [
    "# Import dataframes\n",
    "df_class = pd.read_csv(os.path.join(path,\"balanced_df.csv\"), index_col=0)\n",
    "df = pd.read_csv(os.path.join(path,\"normal_df.csv\"), index_col=0)\n",
    "# Shape as features/target arrays\n",
    "X_class = df_class.loc[:, df_class.columns != 'target'].values\n",
    "y_class = df_class['target'].values\n",
    "X = df.loc[:, df.columns != 'target'].values\n",
    "y = df['target'].values"
   ]
  },
  {
   "cell_type": "markdown",
   "metadata": {},
   "source": [
    "## 2. Fitting Simple Models\n",
    "\n",
    "At this stage models are trained.\n",
    "\n",
    "To be able to train and test, a great many number of models, a pipeline was implemented, that can:\n",
    "\n",
    "* Find best parameters for every model using grid search, and cross-validation.\n",
    "* Receive has input both regressor models and classifiers.\n",
    "* Compare complete model to a OneVSRest set of models (when possible).\n",
    "* Save final models to .pkl file (trained with full dataset).\n",
    "\n",
    "This pipeline allows fast exploration of many different models, to access which best adapt to a dataset (Enabling parallelization, set n_jobs to number of cores to use, will increase speed considerably). Using this pipeline, it was possible to explore many sklearn models, increasing certainty in the top models selected."
   ]
  },
  {
   "cell_type": "code",
   "execution_count": 3,
   "metadata": {},
   "outputs": [
    {
     "name": "stderr",
     "output_type": "stream",
     "text": [
      "Classifiers: 100%|█████████████████████████████████████████████████████████████████████| 17/17 [02:36<00:00,  9.22s/it]"
     ]
    },
    {
     "name": "stdout",
     "output_type": "stream",
     "text": [
      "All Models Trained\n"
     ]
    },
    {
     "name": "stderr",
     "output_type": "stream",
     "text": [
      "\n"
     ]
    },
    {
     "data": {
      "text/html": [
       "<div>\n",
       "<style scoped>\n",
       "    .dataframe tbody tr th:only-of-type {\n",
       "        vertical-align: middle;\n",
       "    }\n",
       "\n",
       "    .dataframe tbody tr th {\n",
       "        vertical-align: top;\n",
       "    }\n",
       "\n",
       "    .dataframe thead th {\n",
       "        text-align: right;\n",
       "    }\n",
       "</style>\n",
       "<table border=\"1\" class=\"dataframe\">\n",
       "  <thead>\n",
       "    <tr style=\"text-align: right;\">\n",
       "      <th></th>\n",
       "      <th>Model</th>\n",
       "      <th>Type</th>\n",
       "      <th>Score</th>\n",
       "      <th>OneVSRest</th>\n",
       "      <th>Parameters</th>\n",
       "      <th>File</th>\n",
       "    </tr>\n",
       "  </thead>\n",
       "  <tbody>\n",
       "    <tr>\n",
       "      <th>0</th>\n",
       "      <td>MLPClassifier</td>\n",
       "      <td>classifier</td>\n",
       "      <td>0.935030</td>\n",
       "      <td>0.944869</td>\n",
       "      <td>{'activation': 'relu', 'alpha': 0.0001, 'batch...</td>\n",
       "      <td>MLPClassifier.pkl</td>\n",
       "    </tr>\n",
       "    <tr>\n",
       "      <th>4</th>\n",
       "      <td>KNeighborsClassifier</td>\n",
       "      <td>classifier</td>\n",
       "      <td>0.933052</td>\n",
       "      <td>0.933052</td>\n",
       "      <td>{'algorithm': 'auto', 'leaf_size': 30, 'metric...</td>\n",
       "      <td>KNeighborsClassifier.pkl</td>\n",
       "    </tr>\n",
       "    <tr>\n",
       "      <th>2</th>\n",
       "      <td>SVC</td>\n",
       "      <td>classifier</td>\n",
       "      <td>0.932078</td>\n",
       "      <td>0.930440</td>\n",
       "      <td>{'C': 1000, 'break_ties': False, 'cache_size':...</td>\n",
       "      <td>SVC.pkl</td>\n",
       "    </tr>\n",
       "    <tr>\n",
       "      <th>9</th>\n",
       "      <td>DecisionTreeClassifier</td>\n",
       "      <td>classifier</td>\n",
       "      <td>0.876942</td>\n",
       "      <td>0.904504</td>\n",
       "      <td>{'ccp_alpha': 0.0, 'class_weight': None, 'crit...</td>\n",
       "      <td>DecisionTreeClassifier.pkl</td>\n",
       "    </tr>\n",
       "    <tr>\n",
       "      <th>13</th>\n",
       "      <td>LogisticRegression</td>\n",
       "      <td>classifier</td>\n",
       "      <td>0.809295</td>\n",
       "      <td>0.797482</td>\n",
       "      <td>{'C': 100.0, 'class_weight': None, 'dual': Fal...</td>\n",
       "      <td>LogisticRegression.pkl</td>\n",
       "    </tr>\n",
       "    <tr>\n",
       "      <th>6</th>\n",
       "      <td>GaussianNB</td>\n",
       "      <td>classifier</td>\n",
       "      <td>0.734493</td>\n",
       "      <td>0.736140</td>\n",
       "      <td>{'priors': None, 'var_smoothing': 1e-07}</td>\n",
       "      <td>GaussianNB.pkl</td>\n",
       "    </tr>\n",
       "    <tr>\n",
       "      <th>7</th>\n",
       "      <td>MultinomialNB</td>\n",
       "      <td>classifier</td>\n",
       "      <td>0.712145</td>\n",
       "      <td>0.721347</td>\n",
       "      <td>{'alpha': 0, 'class_prior': None, 'fit_prior':...</td>\n",
       "      <td>MultinomialNB.pkl</td>\n",
       "    </tr>\n",
       "    <tr>\n",
       "      <th>14</th>\n",
       "      <td>RidgeClassifier</td>\n",
       "      <td>classifier</td>\n",
       "      <td>0.696731</td>\n",
       "      <td>0.696731</td>\n",
       "      <td>{'alpha': 1.0, 'class_weight': None, 'copy_X':...</td>\n",
       "      <td>RidgeClassifier.pkl</td>\n",
       "    </tr>\n",
       "    <tr>\n",
       "      <th>8</th>\n",
       "      <td>ComplementNB</td>\n",
       "      <td>classifier</td>\n",
       "      <td>0.664571</td>\n",
       "      <td>0.720690</td>\n",
       "      <td>{'alpha': 0, 'class_prior': None, 'fit_prior':...</td>\n",
       "      <td>ComplementNB.pkl</td>\n",
       "    </tr>\n",
       "    <tr>\n",
       "      <th>5</th>\n",
       "      <td>KNeighborsRegressor</td>\n",
       "      <td>regressor</td>\n",
       "      <td>0.593329</td>\n",
       "      <td>NaN</td>\n",
       "      <td>{'algorithm': 'auto', 'leaf_size': 30, 'metric...</td>\n",
       "      <td>KNeighborsRegressor.pkl</td>\n",
       "    </tr>\n",
       "    <tr>\n",
       "      <th>15</th>\n",
       "      <td>Ridge</td>\n",
       "      <td>regressor</td>\n",
       "      <td>0.553972</td>\n",
       "      <td>NaN</td>\n",
       "      <td>{'alpha': 100.0, 'copy_X': True, 'fit_intercep...</td>\n",
       "      <td>Ridge.pkl</td>\n",
       "    </tr>\n",
       "    <tr>\n",
       "      <th>16</th>\n",
       "      <td>BayesianRidge</td>\n",
       "      <td>regressor</td>\n",
       "      <td>0.553620</td>\n",
       "      <td>NaN</td>\n",
       "      <td>{'alpha_1': 1e-06, 'alpha_2': 1e-06, 'alpha_in...</td>\n",
       "      <td>BayesianRidge.pkl</td>\n",
       "    </tr>\n",
       "    <tr>\n",
       "      <th>12</th>\n",
       "      <td>LinearRegression</td>\n",
       "      <td>regressor</td>\n",
       "      <td>0.553329</td>\n",
       "      <td>NaN</td>\n",
       "      <td>{'copy_X': True, 'fit_intercept': True, 'n_job...</td>\n",
       "      <td>LinearRegression.pkl</td>\n",
       "    </tr>\n",
       "    <tr>\n",
       "      <th>11</th>\n",
       "      <td>HuberRegressor</td>\n",
       "      <td>regressor</td>\n",
       "      <td>0.547412</td>\n",
       "      <td>NaN</td>\n",
       "      <td>{'alpha': 0.0001, 'epsilon': 1.45, 'fit_interc...</td>\n",
       "      <td>HuberRegressor.pkl</td>\n",
       "    </tr>\n",
       "    <tr>\n",
       "      <th>3</th>\n",
       "      <td>SVR</td>\n",
       "      <td>regressor</td>\n",
       "      <td>0.535551</td>\n",
       "      <td>NaN</td>\n",
       "      <td>{'C': 1000, 'cache_size': 200, 'coef0': 0.0, '...</td>\n",
       "      <td>SVR.pkl</td>\n",
       "    </tr>\n",
       "    <tr>\n",
       "      <th>10</th>\n",
       "      <td>DecisionTreeRegressor</td>\n",
       "      <td>regressor</td>\n",
       "      <td>0.519885</td>\n",
       "      <td>NaN</td>\n",
       "      <td>{'ccp_alpha': 0.0, 'criterion': 'mae', 'max_de...</td>\n",
       "      <td>DecisionTreeRegressor.pkl</td>\n",
       "    </tr>\n",
       "    <tr>\n",
       "      <th>1</th>\n",
       "      <td>MLPRegressor</td>\n",
       "      <td>regressor</td>\n",
       "      <td>0.447833</td>\n",
       "      <td>NaN</td>\n",
       "      <td>{'activation': 'relu', 'alpha': 0.0001, 'batch...</td>\n",
       "      <td>MLPRegressor.pkl</td>\n",
       "    </tr>\n",
       "  </tbody>\n",
       "</table>\n",
       "</div>"
      ],
      "text/plain": [
       "                     Model        Type     Score  OneVSRest  \\\n",
       "0            MLPClassifier  classifier  0.935030   0.944869   \n",
       "4     KNeighborsClassifier  classifier  0.933052   0.933052   \n",
       "2                      SVC  classifier  0.932078   0.930440   \n",
       "9   DecisionTreeClassifier  classifier  0.876942   0.904504   \n",
       "13      LogisticRegression  classifier  0.809295   0.797482   \n",
       "6               GaussianNB  classifier  0.734493   0.736140   \n",
       "7            MultinomialNB  classifier  0.712145   0.721347   \n",
       "14         RidgeClassifier  classifier  0.696731   0.696731   \n",
       "8             ComplementNB  classifier  0.664571   0.720690   \n",
       "5      KNeighborsRegressor   regressor  0.593329        NaN   \n",
       "15                   Ridge   regressor  0.553972        NaN   \n",
       "16           BayesianRidge   regressor  0.553620        NaN   \n",
       "12        LinearRegression   regressor  0.553329        NaN   \n",
       "11          HuberRegressor   regressor  0.547412        NaN   \n",
       "3                      SVR   regressor  0.535551        NaN   \n",
       "10   DecisionTreeRegressor   regressor  0.519885        NaN   \n",
       "1             MLPRegressor   regressor  0.447833        NaN   \n",
       "\n",
       "                                           Parameters  \\\n",
       "0   {'activation': 'relu', 'alpha': 0.0001, 'batch...   \n",
       "4   {'algorithm': 'auto', 'leaf_size': 30, 'metric...   \n",
       "2   {'C': 1000, 'break_ties': False, 'cache_size':...   \n",
       "9   {'ccp_alpha': 0.0, 'class_weight': None, 'crit...   \n",
       "13  {'C': 100.0, 'class_weight': None, 'dual': Fal...   \n",
       "6            {'priors': None, 'var_smoothing': 1e-07}   \n",
       "7   {'alpha': 0, 'class_prior': None, 'fit_prior':...   \n",
       "14  {'alpha': 1.0, 'class_weight': None, 'copy_X':...   \n",
       "8   {'alpha': 0, 'class_prior': None, 'fit_prior':...   \n",
       "5   {'algorithm': 'auto', 'leaf_size': 30, 'metric...   \n",
       "15  {'alpha': 100.0, 'copy_X': True, 'fit_intercep...   \n",
       "16  {'alpha_1': 1e-06, 'alpha_2': 1e-06, 'alpha_in...   \n",
       "12  {'copy_X': True, 'fit_intercept': True, 'n_job...   \n",
       "11  {'alpha': 0.0001, 'epsilon': 1.45, 'fit_interc...   \n",
       "3   {'C': 1000, 'cache_size': 200, 'coef0': 0.0, '...   \n",
       "10  {'ccp_alpha': 0.0, 'criterion': 'mae', 'max_de...   \n",
       "1   {'activation': 'relu', 'alpha': 0.0001, 'batch...   \n",
       "\n",
       "                          File  \n",
       "0            MLPClassifier.pkl  \n",
       "4     KNeighborsClassifier.pkl  \n",
       "2                      SVC.pkl  \n",
       "9   DecisionTreeClassifier.pkl  \n",
       "13      LogisticRegression.pkl  \n",
       "6               GaussianNB.pkl  \n",
       "7            MultinomialNB.pkl  \n",
       "14         RidgeClassifier.pkl  \n",
       "8             ComplementNB.pkl  \n",
       "5      KNeighborsRegressor.pkl  \n",
       "15                   Ridge.pkl  \n",
       "16           BayesianRidge.pkl  \n",
       "12        LinearRegression.pkl  \n",
       "11          HuberRegressor.pkl  \n",
       "3                      SVR.pkl  \n",
       "10   DecisionTreeRegressor.pkl  \n",
       "1             MLPRegressor.pkl  "
      ]
     },
     "execution_count": 3,
     "metadata": {},
     "output_type": "execute_result"
    }
   ],
   "source": [
    "# Define Data\n",
    "\n",
    "X_shape = {'classifier': X_class, 'regressor': X}\n",
    "y_shape = {'classifier': y_class, 'regressor': y}\n",
    "\n",
    "# Define Models and parameters to search\n",
    "\n",
    "params = [\n",
    "    {\n",
    "        \"model\": 'MLPClassifier',\n",
    "        \"module\": 'neural_network',\n",
    "        \"param_grid\": {'hidden_layer_sizes': [(100), (100,50,15)], 'learning_rate': ('constant', 'adaptive'), \"max_iter\": [400]}\n",
    "    },\n",
    "    {\n",
    "        \"model\": 'MLPRegressor',\n",
    "        \"module\": 'neural_network',\n",
    "        \"param_grid\": {'hidden_layer_sizes': [(100), (100,50,15)], 'learning_rate': ('constant', 'adaptive'), \"max_iter\": [400]}\n",
    "    },\n",
    "    {\n",
    "        \"model\": 'SVC',\n",
    "        \"module\": 'svm',\n",
    "        \"param_grid\": {'C': [1, 10, 100, 1000], 'kernel': ('linear', 'rbf')}\n",
    "    },\n",
    "    {\n",
    "        \"model\": 'SVR',\n",
    "        \"module\": 'svm',\n",
    "        \"param_grid\": {'C': [1, 10, 100, 1000], 'kernel': ('linear', 'rbf')}\n",
    "    },\n",
    "    {\n",
    "        \"model\": 'KNeighborsClassifier',\n",
    "        \"module\": 'neighbors',\n",
    "        \"param_grid\": {'n_neighbors': [3, 5, 7], 'weights': ('uniform', 'distance')}\n",
    "    },\n",
    "    {\n",
    "        \"model\": 'KNeighborsRegressor',\n",
    "        \"module\": 'neighbors',\n",
    "        \"param_grid\": {'n_neighbors': [3, 5, 7], 'weights': ('uniform', 'distance')}\n",
    "    },\n",
    "    {\n",
    "        \"model\": 'GaussianNB',\n",
    "        \"module\": 'naive_bayes',\n",
    "        \"param_grid\": {'var_smoothing': [1e-9, 1e-7]}\n",
    "    },\n",
    "    {\n",
    "        \"model\": 'MultinomialNB',\n",
    "        \"module\": 'naive_bayes',\n",
    "        \"param_grid\": {'alpha': [0, 0.5, 1]}\n",
    "    },\n",
    "        {\n",
    "        \"model\": 'ComplementNB',\n",
    "        \"module\": 'naive_bayes',\n",
    "        \"param_grid\": {'alpha': [0, 0.5, 1], 'norm': (True, False)}\n",
    "    },\n",
    "    {\n",
    "        \"model\": 'DecisionTreeClassifier',\n",
    "        \"module\": 'tree',\n",
    "        \"param_grid\": {'criterion': ('gini', 'entropy'), 'max_depth': [None, 10, 20, 30, 40], \n",
    "                       'min_samples_leaf': [2, 5, 10]}\n",
    "    },\n",
    "    {\n",
    "        \"model\": 'DecisionTreeRegressor',\n",
    "        \"module\": 'tree',\n",
    "        \"param_grid\": {'criterion': ('mse', 'friedman_mse', 'mae'), 'max_depth': [None, 10, 20, 30, 40], \n",
    "                       'min_samples_leaf': [2, 5, 10]}\n",
    "    },\n",
    "    {\n",
    "        \"model\": 'HuberRegressor',\n",
    "        \"module\": 'linear_model',\n",
    "        \"param_grid\": {'epsilon': [1.15, 1.35, 1.45], 'max_iter': [100, 200]}\n",
    "    },\n",
    "    {\n",
    "        \"model\": 'LinearRegression',\n",
    "        \"module\": 'linear_model',\n",
    "        \"param_grid\": {'normalize': (True, False)}\n",
    "    },\n",
    "    {\n",
    "        \"model\": 'LogisticRegression',\n",
    "        \"module\": 'linear_model',\n",
    "        \"param_grid\": {'penalty': ('l1', 'l2', 'elasticnet'), 'C': [1.0, 10.0, 100.0]}\n",
    "    },\n",
    "    {\n",
    "        \"model\": 'RidgeClassifier',\n",
    "        \"module\": 'linear_model',\n",
    "        \"param_grid\": {'normalize': (True, False), 'alpha': [1.0, 10.0, 100.0]}\n",
    "    },\n",
    "    {\n",
    "        \"model\": 'Ridge',\n",
    "        \"module\": 'linear_model',\n",
    "        \"param_grid\": {'normalize': (True, False), 'alpha': [1.0, 10.0, 100.0]}\n",
    "    },\n",
    "    {\n",
    "        \"model\": 'BayesianRidge',\n",
    "        \"module\": 'linear_model',\n",
    "        \"param_grid\": {'normalize': (True, False), 'n_iter': [300, 400, 500]}\n",
    "    }\n",
    "]\n",
    "\n",
    "# Fit Models\n",
    "\n",
    "grid_search = model_search(X_shape, y_shape, params, n_jobs=-1)\n",
    "grid_search.df.sort_values(['Score', 'OneVSRest', 'Type'], ascending=False)\n",
    "\n",
    "# If already Fitted once dataset can be loaded without training\n",
    "#grid_search = model_search(train=False)\n",
    "#grid_search.df.sort_values(['Score', 'OneVSRest', 'Type'], ascending=False)"
   ]
  },
  {
   "cell_type": "markdown",
   "metadata": {},
   "source": [
    "Has expected, the classification problem obtained results substantially better than the regression problem.\n",
    "\n",
    "In the classification problem, an almost perfect score is obtained using the Multi-layer perceptron with a OneVsRest approach. Both KNN, and SVM also scored very high, and will be considered in the top 3 classifiers.\n",
    "\n",
    "In the regression problem, the scores were lower. Having a different scoring metric ($R^2$) and a more difficult problem, are two major contributions to these score results.  \n",
    "The KNN regressor obtains the best results, showing some consistency, with Ridge Regression and simple Linear Regression also performing well. Unfortunately, Huber Regression, did not perform as well as expected, this robust regressor, was expected to handle better a right skewed target, with many outliers."
   ]
  },
  {
   "cell_type": "markdown",
   "metadata": {},
   "source": [
    "## 3. Analysing Top Models\n",
    "\n",
    "In this part the top 3 best classifiers/regressors will be analysed more thoroughly.\n",
    "\n",
    "To do this analysis, was implemented a class that enable the construction of advanced metrics, for either classifiers or regressors. \n",
    "In case more than one model is used as input the algorithm uses a voting technique to make predictions, in this case all models need to belong to the same model type (classifier/regressor)."
   ]
  },
  {
   "cell_type": "markdown",
   "metadata": {},
   "source": [
    "## Simple Classifiers\n",
    "\n",
    "Top 3\n",
    "\n",
    "1. Multi-Layer Perceptron\n",
    "2. K Nearest Neighbours\n",
    "3. Support Vector Machine\n",
    "\n",
    "Used Metrics:\n",
    "\n",
    "* Accuracy\n",
    "* Precision\n",
    "* Recall\n",
    "* F1-score\n",
    "* Normalized confusion matrix"
   ]
  },
  {
   "cell_type": "markdown",
   "metadata": {},
   "source": [
    "### MLP"
   ]
  },
  {
   "cell_type": "code",
   "execution_count": 4,
   "metadata": {},
   "outputs": [
    {
     "data": {
      "text/plain": [
       "<Figure size 1296x576 with 0 Axes>"
      ]
     },
     "metadata": {},
     "output_type": "display_data"
    },
    {
     "data": {
      "image/png": "[encoded data removed]",
      "text/plain": [
       "<Figure size 432x288 with 2 Axes>"
      ]
     },
     "metadata": {
      "needs_background": "light"
     },
     "output_type": "display_data"
    },
    {
     "name": "stdout",
     "output_type": "stream",
     "text": [
      "              precision    recall  f1-score   support\n",
      "\n",
      "           0       0.90      0.87      0.89       306\n",
      "           1       0.98      1.00      0.99       291\n",
      "           2       0.88      0.90      0.89       318\n",
      "\n",
      "    accuracy                           0.92       915\n",
      "   macro avg       0.92      0.92      0.92       915\n",
      "weighted avg       0.92      0.92      0.92       915\n",
      "\n"
     ]
    }
   ],
   "source": [
    "i = 0\n",
    "params = {\"model\": grid_search.df.Model[i], \"module\": 'neural_network', \"hp\": grid_search.df.Parameters[i]}\n",
    "\n",
    "mlp = analyse_model(params, ovr=True)\n",
    "metrics = mlp.fit_test(X_class, y_class)\n",
    "print(metrics)"
   ]
  },
  {
   "cell_type": "markdown",
   "metadata": {},
   "source": [
    "### KNN"
   ]
  },
  {
   "cell_type": "code",
   "execution_count": 5,
   "metadata": {},
   "outputs": [
    {
     "data": {
      "text/plain": [
       "<Figure size 1296x576 with 0 Axes>"
      ]
     },
     "metadata": {},
     "output_type": "display_data"
    },
    {
     "data": {
      "image/png": "[encoded data removed]",
      "text/plain": [
       "<Figure size 432x288 with 2 Axes>"
      ]
     },
     "metadata": {
      "needs_background": "light"
     },
     "output_type": "display_data"
    },
    {
     "name": "stdout",
     "output_type": "stream",
     "text": [
      "              precision    recall  f1-score   support\n",
      "\n",
      "           0       0.93      0.84      0.88       306\n",
      "           1       0.95      0.99      0.97       291\n",
      "           2       0.86      0.91      0.88       318\n",
      "\n",
      "    accuracy                           0.91       915\n",
      "   macro avg       0.91      0.91      0.91       915\n",
      "weighted avg       0.91      0.91      0.91       915\n",
      "\n"
     ]
    }
   ],
   "source": [
    "i = 4\n",
    "params = {\"model\": grid_search.df.Model[i], \"module\": 'neighbors', \"hp\": grid_search.df.Parameters[i]}\n",
    "\n",
    "knn = analyse_model(params, ovr=False)\n",
    "metrics = knn.fit_test(X_class, y_class)\n",
    "print(metrics)"
   ]
  },
  {
   "cell_type": "markdown",
   "metadata": {},
   "source": [
    "### SVM"
   ]
  },
  {
   "cell_type": "code",
   "execution_count": 6,
   "metadata": {},
   "outputs": [
    {
     "data": {
      "text/plain": [
       "<Figure size 1296x576 with 0 Axes>"
      ]
     },
     "metadata": {},
     "output_type": "display_data"
    },
    {
     "data": {
      "image/png": "[encoded data removed]",
      "text/plain": [
       "<Figure size 432x288 with 2 Axes>"
      ]
     },
     "metadata": {
      "needs_background": "light"
     },
     "output_type": "display_data"
    },
    {
     "name": "stdout",
     "output_type": "stream",
     "text": [
      "              precision    recall  f1-score   support\n",
      "\n",
      "           0       0.90      0.84      0.87       306\n",
      "           1       0.98      1.00      0.99       291\n",
      "           2       0.85      0.90      0.87       318\n",
      "\n",
      "    accuracy                           0.91       915\n",
      "   macro avg       0.91      0.91      0.91       915\n",
      "weighted avg       0.91      0.91      0.91       915\n",
      "\n"
     ]
    }
   ],
   "source": [
    "i = 2\n",
    "params = {\"model\": grid_search.df.Model[i], \"module\": 'svm', \"hp\": grid_search.df.Parameters[i]}\n",
    "\n",
    "knn = analyse_model(params, ovr=True)\n",
    "metrics = knn.fit_test(X_class, y_class)\n",
    "print(metrics)"
   ]
  },
  {
   "cell_type": "markdown",
   "metadata": {},
   "source": [
    "### Conclusions\n",
    "\n",
    "All 3 top classifiers have almost perfect scores all around, with no apparent overfitting. The models saved (fitted with the full dataset), have sufficient quality to be used in a production environment."
   ]
  },
  {
   "cell_type": "markdown",
   "metadata": {},
   "source": [
    "## Simple Regressors\n",
    "\n",
    "Top 3\n",
    "\n",
    "* K Nearest Neighbours (Regressor)\n",
    "* Ridge Regression\n",
    "* Linear Regression\n",
    "\n",
    "Used Metrics:\n",
    "\n",
    "* Mean Absolute Error\n",
    "* Median Absolute Error\n",
    "* Mean Squared Error\n",
    "* Mean Squared Log Error\n",
    "* Mean Tweedie Deviance\n",
    "* $R^2$\n",
    "* Explained Variance"
   ]
  },
  {
   "cell_type": "markdown",
   "metadata": {},
   "source": [
    "### KNN"
   ]
  },
  {
   "cell_type": "code",
   "execution_count": 7,
   "metadata": {},
   "outputs": [
    {
     "data": {
      "text/html": [
       "<div>\n",
       "<style scoped>\n",
       "    .dataframe tbody tr th:only-of-type {\n",
       "        vertical-align: middle;\n",
       "    }\n",
       "\n",
       "    .dataframe tbody tr th {\n",
       "        vertical-align: top;\n",
       "    }\n",
       "\n",
       "    .dataframe thead th {\n",
       "        text-align: right;\n",
       "    }\n",
       "</style>\n",
       "<table border=\"1\" class=\"dataframe\">\n",
       "  <thead>\n",
       "    <tr style=\"text-align: right;\">\n",
       "      <th></th>\n",
       "      <th>Metric</th>\n",
       "      <th>Score</th>\n",
       "    </tr>\n",
       "  </thead>\n",
       "  <tbody>\n",
       "    <tr>\n",
       "      <th>0</th>\n",
       "      <td>explained_variance_score</td>\n",
       "      <td>0.633469</td>\n",
       "    </tr>\n",
       "    <tr>\n",
       "      <th>1</th>\n",
       "      <td>mean_absolute_error</td>\n",
       "      <td>0.235975</td>\n",
       "    </tr>\n",
       "    <tr>\n",
       "      <th>2</th>\n",
       "      <td>mean_squared_error</td>\n",
       "      <td>0.250361</td>\n",
       "    </tr>\n",
       "    <tr>\n",
       "      <th>3</th>\n",
       "      <td>mean_squared_log_error</td>\n",
       "      <td>0.080062</td>\n",
       "    </tr>\n",
       "    <tr>\n",
       "      <th>4</th>\n",
       "      <td>mean_tweedie_deviance</td>\n",
       "      <td>0.250361</td>\n",
       "    </tr>\n",
       "    <tr>\n",
       "      <th>5</th>\n",
       "      <td>median_absolute_error</td>\n",
       "      <td>0.000000</td>\n",
       "    </tr>\n",
       "    <tr>\n",
       "      <th>6</th>\n",
       "      <td>r2_score</td>\n",
       "      <td>0.632791</td>\n",
       "    </tr>\n",
       "  </tbody>\n",
       "</table>\n",
       "</div>"
      ],
      "text/plain": [
       "                     Metric     Score\n",
       "0  explained_variance_score  0.633469\n",
       "1       mean_absolute_error  0.235975\n",
       "2        mean_squared_error  0.250361\n",
       "3    mean_squared_log_error  0.080062\n",
       "4     mean_tweedie_deviance  0.250361\n",
       "5     median_absolute_error  0.000000\n",
       "6                  r2_score  0.632791"
      ]
     },
     "execution_count": 7,
     "metadata": {},
     "output_type": "execute_result"
    }
   ],
   "source": [
    "i = 5\n",
    "params = {\"model\": grid_search.df.Model[i], \"module\": 'neighbors', \"hp\": grid_search.df.Parameters[i]}\n",
    "\n",
    "knn = analyse_model(params, ovr=False)\n",
    "knn.fit_test(X_class, y_class)"
   ]
  },
  {
   "cell_type": "markdown",
   "metadata": {},
   "source": [
    "### Ridge"
   ]
  },
  {
   "cell_type": "code",
   "execution_count": 8,
   "metadata": {},
   "outputs": [
    {
     "data": {
      "text/html": [
       "<div>\n",
       "<style scoped>\n",
       "    .dataframe tbody tr th:only-of-type {\n",
       "        vertical-align: middle;\n",
       "    }\n",
       "\n",
       "    .dataframe tbody tr th {\n",
       "        vertical-align: top;\n",
       "    }\n",
       "\n",
       "    .dataframe thead th {\n",
       "        text-align: right;\n",
       "    }\n",
       "</style>\n",
       "<table border=\"1\" class=\"dataframe\">\n",
       "  <thead>\n",
       "    <tr style=\"text-align: right;\">\n",
       "      <th></th>\n",
       "      <th>Metric</th>\n",
       "      <th>Score</th>\n",
       "    </tr>\n",
       "  </thead>\n",
       "  <tbody>\n",
       "    <tr>\n",
       "      <th>0</th>\n",
       "      <td>explained_variance_score</td>\n",
       "      <td>0.304481</td>\n",
       "    </tr>\n",
       "    <tr>\n",
       "      <th>1</th>\n",
       "      <td>mean_absolute_error</td>\n",
       "      <td>0.589197</td>\n",
       "    </tr>\n",
       "    <tr>\n",
       "      <th>2</th>\n",
       "      <td>mean_squared_error</td>\n",
       "      <td>0.474382</td>\n",
       "    </tr>\n",
       "    <tr>\n",
       "      <th>3</th>\n",
       "      <td>mean_tweedie_deviance</td>\n",
       "      <td>0.474382</td>\n",
       "    </tr>\n",
       "    <tr>\n",
       "      <th>4</th>\n",
       "      <td>median_absolute_error</td>\n",
       "      <td>0.566420</td>\n",
       "    </tr>\n",
       "    <tr>\n",
       "      <th>5</th>\n",
       "      <td>r2_score</td>\n",
       "      <td>0.304216</td>\n",
       "    </tr>\n",
       "  </tbody>\n",
       "</table>\n",
       "</div>"
      ],
      "text/plain": [
       "                     Metric     Score\n",
       "0  explained_variance_score  0.304481\n",
       "1       mean_absolute_error  0.589197\n",
       "2        mean_squared_error  0.474382\n",
       "3     mean_tweedie_deviance  0.474382\n",
       "4     median_absolute_error  0.566420\n",
       "5                  r2_score  0.304216"
      ]
     },
     "execution_count": 8,
     "metadata": {},
     "output_type": "execute_result"
    }
   ],
   "source": [
    "i = 15\n",
    "params = {\"model\": grid_search.df.Model[i], \"module\": 'linear_model', \"hp\": grid_search.df.Parameters[i]}\n",
    "\n",
    "knn = analyse_model(params, ovr=False)\n",
    "knn.fit_test(X_class, y_class)"
   ]
  },
  {
   "cell_type": "markdown",
   "metadata": {},
   "source": [
    "### Linear Regression"
   ]
  },
  {
   "cell_type": "code",
   "execution_count": 9,
   "metadata": {},
   "outputs": [
    {
     "data": {
      "text/html": [
       "<div>\n",
       "<style scoped>\n",
       "    .dataframe tbody tr th:only-of-type {\n",
       "        vertical-align: middle;\n",
       "    }\n",
       "\n",
       "    .dataframe tbody tr th {\n",
       "        vertical-align: top;\n",
       "    }\n",
       "\n",
       "    .dataframe thead th {\n",
       "        text-align: right;\n",
       "    }\n",
       "</style>\n",
       "<table border=\"1\" class=\"dataframe\">\n",
       "  <thead>\n",
       "    <tr style=\"text-align: right;\">\n",
       "      <th></th>\n",
       "      <th>Metric</th>\n",
       "      <th>Score</th>\n",
       "    </tr>\n",
       "  </thead>\n",
       "  <tbody>\n",
       "    <tr>\n",
       "      <th>0</th>\n",
       "      <td>explained_variance_score</td>\n",
       "      <td>0.305124</td>\n",
       "    </tr>\n",
       "    <tr>\n",
       "      <th>1</th>\n",
       "      <td>mean_absolute_error</td>\n",
       "      <td>0.587399</td>\n",
       "    </tr>\n",
       "    <tr>\n",
       "      <th>2</th>\n",
       "      <td>mean_squared_error</td>\n",
       "      <td>0.473950</td>\n",
       "    </tr>\n",
       "    <tr>\n",
       "      <th>3</th>\n",
       "      <td>mean_tweedie_deviance</td>\n",
       "      <td>0.473950</td>\n",
       "    </tr>\n",
       "    <tr>\n",
       "      <th>4</th>\n",
       "      <td>median_absolute_error</td>\n",
       "      <td>0.569427</td>\n",
       "    </tr>\n",
       "    <tr>\n",
       "      <th>5</th>\n",
       "      <td>r2_score</td>\n",
       "      <td>0.304851</td>\n",
       "    </tr>\n",
       "  </tbody>\n",
       "</table>\n",
       "</div>"
      ],
      "text/plain": [
       "                     Metric     Score\n",
       "0  explained_variance_score  0.305124\n",
       "1       mean_absolute_error  0.587399\n",
       "2        mean_squared_error  0.473950\n",
       "3     mean_tweedie_deviance  0.473950\n",
       "4     median_absolute_error  0.569427\n",
       "5                  r2_score  0.304851"
      ]
     },
     "execution_count": 9,
     "metadata": {},
     "output_type": "execute_result"
    }
   ],
   "source": [
    "i = 12\n",
    "params = {\"model\": grid_search.df.Model[i], \"module\": 'linear_model', \"hp\": grid_search.df.Parameters[i]}\n",
    "\n",
    "knn = analyse_model(params, ovr=False)\n",
    "knn.fit_test(X_class, y_class)"
   ]
  },
  {
   "cell_type": "markdown",
   "metadata": {},
   "source": [
    "### Conclusions\n",
    "\n",
    "The only regressor that is performing well, all around, is the KNN regressor, this says much about its consistency in its ability to model this dataset. In this case, combining these 3 models would probably decrease the performance of the KNN model. So, another solution will need to be found."
   ]
  },
  {
   "cell_type": "markdown",
   "metadata": {},
   "source": [
    "## 4. Ensemble Learning\n",
    "\n",
    "At this stage a combination of simple classifiers will be tried, to see if performance can be increased."
   ]
  },
  {
   "cell_type": "markdown",
   "metadata": {},
   "source": [
    "### Random Forests\n",
    "\n",
    "Random forests are an ensemble of randomly initialized decision trees and are a very good ensemble technique. They solve some of the inherited decision trees bias, which is the reason they are so popular."
   ]
  },
  {
   "cell_type": "markdown",
   "metadata": {},
   "source": [
    "##### Grid Search\n",
    "\n",
    "The previously defined model_search class will be used to search for the best parameters and return an initial analysis."
   ]
  },
  {
   "cell_type": "code",
   "execution_count": 10,
   "metadata": {},
   "outputs": [
    {
     "name": "stderr",
     "output_type": "stream",
     "text": [
      "Classifiers: 100%|███████████████████████████████████████████████████████████████████████| 2/2 [00:52<00:00, 26.19s/it]"
     ]
    },
    {
     "name": "stdout",
     "output_type": "stream",
     "text": [
      "All Models Trained\n"
     ]
    },
    {
     "name": "stderr",
     "output_type": "stream",
     "text": [
      "\n"
     ]
    },
    {
     "data": {
      "text/html": [
       "<div>\n",
       "<style scoped>\n",
       "    .dataframe tbody tr th:only-of-type {\n",
       "        vertical-align: middle;\n",
       "    }\n",
       "\n",
       "    .dataframe tbody tr th {\n",
       "        vertical-align: top;\n",
       "    }\n",
       "\n",
       "    .dataframe thead th {\n",
       "        text-align: right;\n",
       "    }\n",
       "</style>\n",
       "<table border=\"1\" class=\"dataframe\">\n",
       "  <thead>\n",
       "    <tr style=\"text-align: right;\">\n",
       "      <th></th>\n",
       "      <th>Model</th>\n",
       "      <th>Type</th>\n",
       "      <th>Score</th>\n",
       "      <th>OneVSRest</th>\n",
       "      <th>Parameters</th>\n",
       "      <th>File</th>\n",
       "    </tr>\n",
       "  </thead>\n",
       "  <tbody>\n",
       "    <tr>\n",
       "      <th>0</th>\n",
       "      <td>ExtraTreesClassifier</td>\n",
       "      <td>classifier</td>\n",
       "      <td>0.938953</td>\n",
       "      <td>0.935017</td>\n",
       "      <td>{'bootstrap': False, 'ccp_alpha': 0.0, 'class_...</td>\n",
       "      <td>ExtraTreesClassifier.pkl</td>\n",
       "    </tr>\n",
       "    <tr>\n",
       "      <th>1</th>\n",
       "      <td>ExtraTreesRegressor</td>\n",
       "      <td>regressor</td>\n",
       "      <td>0.637432</td>\n",
       "      <td>NaN</td>\n",
       "      <td>{'bootstrap': False, 'ccp_alpha': 0.0, 'criter...</td>\n",
       "      <td>ExtraTreesRegressor.pkl</td>\n",
       "    </tr>\n",
       "  </tbody>\n",
       "</table>\n",
       "</div>"
      ],
      "text/plain": [
       "                  Model        Type     Score  OneVSRest  \\\n",
       "0  ExtraTreesClassifier  classifier  0.938953   0.935017   \n",
       "1   ExtraTreesRegressor   regressor  0.637432        NaN   \n",
       "\n",
       "                                          Parameters                      File  \n",
       "0  {'bootstrap': False, 'ccp_alpha': 0.0, 'class_...  ExtraTreesClassifier.pkl  \n",
       "1  {'bootstrap': False, 'ccp_alpha': 0.0, 'criter...   ExtraTreesRegressor.pkl  "
      ]
     },
     "execution_count": 10,
     "metadata": {},
     "output_type": "execute_result"
    }
   ],
   "source": [
    "# Define Data\n",
    "\n",
    "X_shape = {'classifier': X_class, 'regressor': X}\n",
    "y_shape = {'classifier': y_class, 'regressor': y}\n",
    "\n",
    "# Define Models and parameters to search\n",
    "\n",
    "params = [\n",
    "    {\n",
    "        \"model\": 'ExtraTreesClassifier',\n",
    "        \"module\": 'ensemble',\n",
    "        \"param_grid\": {'criterion': ('gini', 'entropy'), 'max_depth': [20, 30, 40], \n",
    "                       'min_samples_leaf': [2, 3], 'n_estimators': [10, 100]}\n",
    "    },\n",
    "    {\n",
    "        \"model\": 'ExtraTreesRegressor',\n",
    "        \"module\": 'ensemble',\n",
    "        \"param_grid\": {'criterion': ('mse', 'mae'), 'max_depth': [20, 30, 40], \n",
    "                       'min_samples_leaf': [2, 3], 'n_estimators': [10, 100]}\n",
    "    }\n",
    "]\n",
    "\n",
    "# Fit Models\n",
    "\n",
    "rf = model_search(X_shape, y_shape, params, csv='rf.csv')\n",
    "rf.df\n",
    "\n",
    "# Already Trained\n",
    "# grid_search = model_search(train=False, csv='rf.csv')\n",
    "# grid_search.df"
   ]
  },
  {
   "cell_type": "markdown",
   "metadata": {},
   "source": [
    "The random forest classifier obtains a good performance, but not sufficient to outperform, simpler classifiers. While the random forest regressor, seems to obtain a very good score, sufficient to outperform most regressors."
   ]
  },
  {
   "cell_type": "markdown",
   "metadata": {},
   "source": [
    "##### Classification"
   ]
  },
  {
   "cell_type": "code",
   "execution_count": 13,
   "metadata": {},
   "outputs": [
    {
     "data": {
      "text/plain": [
       "<Figure size 1296x576 with 0 Axes>"
      ]
     },
     "metadata": {},
     "output_type": "display_data"
    },
    {
     "data": {
      "image/png": "[encoded data removed]",
      "text/plain": [
       "<Figure size 432x288 with 2 Axes>"
      ]
     },
     "metadata": {
      "needs_background": "light"
     },
     "output_type": "display_data"
    },
    {
     "name": "stdout",
     "output_type": "stream",
     "text": [
      "              precision    recall  f1-score   support\n",
      "\n",
      "           0       0.89      0.89      0.89       306\n",
      "           1       0.96      1.00      0.98       291\n",
      "           2       0.89      0.86      0.87       318\n",
      "\n",
      "    accuracy                           0.91       915\n",
      "   macro avg       0.91      0.91      0.91       915\n",
      "weighted avg       0.91      0.91      0.91       915\n",
      "\n"
     ]
    }
   ],
   "source": [
    "i = 0\n",
    "params = {\"model\": rf.df.Model[i], \"module\": 'ensemble', \"hp\": rf.df.Parameters[i]}\n",
    "\n",
    "extra_trees = analyse_model(params, ovr=False)\n",
    "metrics = extra_trees.fit_test(X_class, y_class)\n",
    "print(metrics)"
   ]
  },
  {
   "cell_type": "markdown",
   "metadata": {},
   "source": [
    "Given the added training time, when comparing, with previous classifiers, this ensemble classifier does not offer a very good solution to this specific problem. Nevertheless, this is a widely recognize ensemble model. Although for this problem training time/score ratio is not the best, and it does not offer a significant improvement on prediction time, unlike MLP's or SVMs, this model offers exploitability. This model makes analysing feature importance very easy, unlike MLP models. Also it is able to handle categorical data very well, which maybe helpful in many situations.\n",
    "\n",
    "When comparing this model with deep learning models, we also see a significant improvement in training time, although it still has a poor prediction time.\n",
    "\n",
    "It is normal that this ensemble, would not be the one to achieve best results. It is an ensemble of decision trees, and although they outperform MLPs and SVMs clearly in categorical datasets, or mixture datasets, the way this dataset was encoded brings an advantage to numerical models."
   ]
  },
  {
   "cell_type": "markdown",
   "metadata": {},
   "source": [
    "##### Regression"
   ]
  },
  {
   "cell_type": "code",
   "execution_count": 22,
   "metadata": {},
   "outputs": [
    {
     "data": {
      "text/html": [
       "<div>\n",
       "<style scoped>\n",
       "    .dataframe tbody tr th:only-of-type {\n",
       "        vertical-align: middle;\n",
       "    }\n",
       "\n",
       "    .dataframe tbody tr th {\n",
       "        vertical-align: top;\n",
       "    }\n",
       "\n",
       "    .dataframe thead th {\n",
       "        text-align: right;\n",
       "    }\n",
       "</style>\n",
       "<table border=\"1\" class=\"dataframe\">\n",
       "  <thead>\n",
       "    <tr style=\"text-align: right;\">\n",
       "      <th></th>\n",
       "      <th>Metric</th>\n",
       "      <th>Score</th>\n",
       "    </tr>\n",
       "  </thead>\n",
       "  <tbody>\n",
       "    <tr>\n",
       "      <th>0</th>\n",
       "      <td>explained_variance_score</td>\n",
       "      <td>0.632226</td>\n",
       "    </tr>\n",
       "    <tr>\n",
       "      <th>1</th>\n",
       "      <td>mean_absolute_error</td>\n",
       "      <td>0.303235</td>\n",
       "    </tr>\n",
       "    <tr>\n",
       "      <th>2</th>\n",
       "      <td>mean_squared_error</td>\n",
       "      <td>0.252231</td>\n",
       "    </tr>\n",
       "    <tr>\n",
       "      <th>3</th>\n",
       "      <td>mean_squared_log_error</td>\n",
       "      <td>0.075270</td>\n",
       "    </tr>\n",
       "    <tr>\n",
       "      <th>4</th>\n",
       "      <td>mean_tweedie_deviance</td>\n",
       "      <td>0.252231</td>\n",
       "    </tr>\n",
       "    <tr>\n",
       "      <th>5</th>\n",
       "      <td>median_absolute_error</td>\n",
       "      <td>0.100000</td>\n",
       "    </tr>\n",
       "    <tr>\n",
       "      <th>6</th>\n",
       "      <td>r2_score</td>\n",
       "      <td>0.630049</td>\n",
       "    </tr>\n",
       "  </tbody>\n",
       "</table>\n",
       "</div>"
      ],
      "text/plain": [
       "                     Metric     Score\n",
       "0  explained_variance_score  0.632226\n",
       "1       mean_absolute_error  0.303235\n",
       "2        mean_squared_error  0.252231\n",
       "3    mean_squared_log_error  0.075270\n",
       "4     mean_tweedie_deviance  0.252231\n",
       "5     median_absolute_error  0.100000\n",
       "6                  r2_score  0.630049"
      ]
     },
     "execution_count": 22,
     "metadata": {},
     "output_type": "execute_result"
    }
   ],
   "source": [
    "i = 1\n",
    "params = {\"model\": rf.df.Model[i], \"module\": 'ensemble', \"hp\": rf.df.Parameters[i]}\n",
    "\n",
    "extra_trees = analyse_model(params, ovr=False)\n",
    "extra_trees.fit_test(X_class, y_class)"
   ]
  },
  {
   "cell_type": "markdown",
   "metadata": {},
   "source": [
    "This regression model performs very well in all-round metrics. Achieving similar results to KNN regressor."
   ]
  },
  {
   "cell_type": "markdown",
   "metadata": {},
   "source": [
    "### Voting Classifier/Regressor\n",
    "\n",
    "This technique combines many models, so that the strengths of the group can overcome their individual deficiencies. \n",
    "\n",
    "As the name suggests, for classifiers this technique is based on voting. For any given prediction, the class with most votes it is the predicted class. For this reason, it is important to select an impar number of voting models. In case of a *soft* voting system, the probabilities for each class are used instead of the actual prediction, and the most probable class is chosen. This method might seem a better solution, but in truth normally it is not because classifiers are not optimized to predict probabilities but classes. Most times they are not well calibrated, and some do not even generate probabilities, so probabilities need to be generated based on their average predictions. In conclusion *hard* voting techniques, normally obtain better results.\n",
    "\n",
    "For regressors the predictions are continuous values, so voting is not possible, for these models, the ensemble uses the mean of all models’ predictions. In this context, models added to the ensemble need to be more carefully selected, since a single model can have a big impact on predictions."
   ]
  },
  {
   "cell_type": "markdown",
   "metadata": {},
   "source": [
    "##### Classification"
   ]
  },
  {
   "cell_type": "code",
   "execution_count": 27,
   "metadata": {},
   "outputs": [
    {
     "data": {
      "text/plain": [
       "<Figure size 1296x576 with 0 Axes>"
      ]
     },
     "metadata": {},
     "output_type": "display_data"
    },
    {
     "data": {
      "image/png": "[encoded data removed]",
      "text/plain": [
       "<Figure size 432x288 with 2 Axes>"
      ]
     },
     "metadata": {
      "needs_background": "light"
     },
     "output_type": "display_data"
    },
    {
     "name": "stdout",
     "output_type": "stream",
     "text": [
      "              precision    recall  f1-score   support\n",
      "\n",
      "           0       0.92      0.85      0.88       306\n",
      "           1       0.99      1.00      0.99       291\n",
      "           2       0.86      0.92      0.89       318\n",
      "\n",
      "    accuracy                           0.92       915\n",
      "   macro avg       0.92      0.92      0.92       915\n",
      "weighted avg       0.92      0.92      0.92       915\n",
      "\n"
     ]
    }
   ],
   "source": [
    "params = [{\"model\": grid_search.df.Model[0], \"module\": 'neural_network', \"hp\": grid_search.df.Parameters[0]},\n",
    "          {\"model\": grid_search.df.Model[4], \"module\": 'neighbors', \"hp\": grid_search.df.Parameters[4]},\n",
    "          {\"model\": grid_search.df.Model[2], \"module\": 'svm', \"hp\": grid_search.df.Parameters[2]},\n",
    "         ]\n",
    "\n",
    "voting_clf = analyse_model(params, ovr=False)\n",
    "metrics = voting_clf.fit_test(X_class, y_class)\n",
    "print(metrics)"
   ]
  },
  {
   "cell_type": "markdown",
   "metadata": {},
   "source": [
    "The simple OneVsRest MLP outperforms this ensemble model. Although MLP cannot be considered a *'simple'* model, for this dataset it was able to outperform every other model. This is partially because the model was encoded using neural networks, which generate encodings more easily understood by other NN models.\n",
    "\n",
    "Also, when considering high performance, like in this case where the OVR MLP archives an average performance of 95% accuracy, voting strategies are normally not a good option. Since in high performance problems, normally only one model will achieve excellent results, so averaging these results will only decrease our performance.\n",
    "\n",
    "Paul Rulkens, actually explains this concept very well, from a business intelligence point of view, in this [Ted Talk](https://www.youtube.com/watch?v=VNGFep6rncY). Although context is very different, the concepts he describes still apply very well to this problem. \n",
    "\n",
    "Because specificity is traded for normality, in most cases, ensemble learning will achieve good results but not optimum results. So, although weak classifiers can be stacked to create a better classifier, that can better deal with noise and bias, in high performance problem, with a more refined dataset, these classifiers will at least have some shortcomings. When looking at neural networks where optimization is done by propagating error through the network, it is clear that, this type of approach is much more prepared to learn specific patterns.\n",
    "\n",
    "This does not mean that these techniques are not useful, they are, when applied in the right context, since must problems are not problems where high performance can even be expected."
   ]
  },
  {
   "cell_type": "markdown",
   "metadata": {},
   "source": [
    "##### Regression"
   ]
  },
  {
   "cell_type": "code",
   "execution_count": 29,
   "metadata": {},
   "outputs": [
    {
     "data": {
      "text/html": [
       "<div>\n",
       "<style scoped>\n",
       "    .dataframe tbody tr th:only-of-type {\n",
       "        vertical-align: middle;\n",
       "    }\n",
       "\n",
       "    .dataframe tbody tr th {\n",
       "        vertical-align: top;\n",
       "    }\n",
       "\n",
       "    .dataframe thead th {\n",
       "        text-align: right;\n",
       "    }\n",
       "</style>\n",
       "<table border=\"1\" class=\"dataframe\">\n",
       "  <thead>\n",
       "    <tr style=\"text-align: right;\">\n",
       "      <th></th>\n",
       "      <th>Metric</th>\n",
       "      <th>Score</th>\n",
       "    </tr>\n",
       "  </thead>\n",
       "  <tbody>\n",
       "    <tr>\n",
       "      <th>0</th>\n",
       "      <td>explained_variance_score</td>\n",
       "      <td>0.661758</td>\n",
       "    </tr>\n",
       "    <tr>\n",
       "      <th>1</th>\n",
       "      <td>mean_absolute_error</td>\n",
       "      <td>0.269605</td>\n",
       "    </tr>\n",
       "    <tr>\n",
       "      <th>2</th>\n",
       "      <td>mean_squared_error</td>\n",
       "      <td>0.230684</td>\n",
       "    </tr>\n",
       "    <tr>\n",
       "      <th>3</th>\n",
       "      <td>mean_squared_log_error</td>\n",
       "      <td>0.072618</td>\n",
       "    </tr>\n",
       "    <tr>\n",
       "      <th>4</th>\n",
       "      <td>mean_tweedie_deviance</td>\n",
       "      <td>0.230684</td>\n",
       "    </tr>\n",
       "    <tr>\n",
       "      <th>5</th>\n",
       "      <td>median_absolute_error</td>\n",
       "      <td>0.062500</td>\n",
       "    </tr>\n",
       "    <tr>\n",
       "      <th>6</th>\n",
       "      <td>r2_score</td>\n",
       "      <td>0.661652</td>\n",
       "    </tr>\n",
       "  </tbody>\n",
       "</table>\n",
       "</div>"
      ],
      "text/plain": [
       "                     Metric     Score\n",
       "0  explained_variance_score  0.661758\n",
       "1       mean_absolute_error  0.269605\n",
       "2        mean_squared_error  0.230684\n",
       "3    mean_squared_log_error  0.072618\n",
       "4     mean_tweedie_deviance  0.230684\n",
       "5     median_absolute_error  0.062500\n",
       "6                  r2_score  0.661652"
      ]
     },
     "execution_count": 29,
     "metadata": {},
     "output_type": "execute_result"
    }
   ],
   "source": [
    "params = [{\"model\": grid_search.df.Model[5], \"module\": 'neighbors', \"hp\": grid_search.df.Parameters[5]},\n",
    "          {\"model\": rf.df.Model[i], \"module\": 'ensemble', \"hp\": rf.df.Parameters[i]},\n",
    "         ]\n",
    "\n",
    "voting_clf = analyse_model(params, ovr=False)\n",
    "voting_clf.fit_test(X_class, y_class)"
   ]
  },
  {
   "cell_type": "markdown",
   "metadata": {},
   "source": [
    "In this case, since the problem is harder, and performance was not very good in simple regressors, the mean of the best simple regressor and an ensemble regressor, outperforms every other approach."
   ]
  }
 ],
 "metadata": {
  "kernelspec": {
   "display_name": "Python 3",
   "language": "python",
   "name": "python3"
  },
  "language_info": {
   "codemirror_mode": {
    "name": "ipython",
    "version": 3
   },
   "file_extension": ".py",
   "mimetype": "text/x-python",
   "name": "python",
   "nbconvert_exporter": "python",
   "pygments_lexer": "ipython3",
   "version": "3.7.4"
  }
 },
 "nbformat": 4,
 "nbformat_minor": 4
}
